# This is an <h1> tag

{
 "cells": [
  {
   "cell_type": "code",
   "execution_count": 133,
   "metadata": {
    "collapsed": true
   },
   "outputs": [],
   "source": [
    "from collections import Counter\n",
    "import math\n",
    "import pandas as pd\n",
    "import numpy as np"
   ]
  },
  {
   "cell_type": "code",
   "execution_count": 445,
   "metadata": {},
   "outputs": [],
   "source": [
    "# Knn algorithm \n",
    "def KNN(Data, query, K,distance_fn,choice_fn):\n",
    "    neighbor_distances_and_indices = []\n",
    "    \n",
    "    # 3: For each data elements\n",
    "    for index,train in enumerate(Data):\n",
    "    \n",
    "    # 3.1: Calculate the distance between the query example & current example of the data\n",
    "    #a[start:end] : train[:-1]\n",
    "        Dist = distance_fn(train[:-1],query)\n",
    "\n",
    "    # 3.2: add the distance and the index of the current example in ordered collection \n",
    "        neighbor_distances_and_indices.append([Dist,index] )   \n",
    "\n",
    "    # 4. Sort the ordered collection of the distances and the indices from smallest to largest\n",
    "    neighbor_distances_and_indices_sorted = sorted(neighbor_distances_and_indices)\n",
    "        \n",
    "    # 5. Pick first K entries from the dataset\n",
    "    neighbor_distances_and_indices_sorted_TopK= neighbor_distances_and_indices_sorted[:K]\n",
    "    \n",
    "    # 6. Get the lables of the K entries\n",
    "    lables_value = []\n",
    "    for index,lables in enumerate(neighbor_distances_and_indices_sorted_TopK):\n",
    "        index_lookup = lables[1]\n",
    "       # print (lables)\n",
    "       # print (index)\n",
    "       # print (index_lookup)\n",
    "        lables_value.append(Data[index_lookup][1])\n",
    "    \n",
    "    # 7. Get Mean if regression , get mode if classification\n",
    "    Mean_Value = choice_fn(lables_value)\n",
    "    \n",
    "    #return print('For N =', K ,': ', 'KNN output of', query ,'is NOTHING' )\n",
    "    return print('The predicted output is: ',Mean_Value)"
   ]
  },
  {
   "cell_type": "code",
   "execution_count": 427,
   "metadata": {
    "collapsed": true
   },
   "outputs": [],
   "source": [
    "# Calculate Mean\n",
    "def mean(lables):\n",
    "    return sum(lables)/len(lables)"
   ]
  },
  {
   "cell_type": "code",
   "execution_count": 444,
   "metadata": {
    "collapsed": true
   },
   "outputs": [],
   "source": [
    "# Calculate Mode\n",
    "def mode(lables):\n",
    "    #Counter([iterable-or-mapping]) \n",
    "    #Counter is a dict class to count hashable objects. \n",
    "    #It is an unordered collection where elements are stored as\n",
    "    #dictionary keys and their counts are stored as dictionary values.\n",
    "    \n",
    "    #most_common([n])\n",
    "    #Return a list of the n most common elements and their counts from the most common to the least.\n",
    "    #If n is omitted or None, most_common() returns all elements in the counter. \n",
    "    #Elements with equal counts are ordered arbitrarily:\n",
    "    return Counter(lables).most_common(1)[0][0]"
   ]
  },
  {
   "cell_type": "code",
   "execution_count": 262,
   "metadata": {
    "collapsed": true
   },
   "outputs": [],
   "source": [
    "# Euclidean Distance\n",
    "def ed_fn(Point1,Point2):\n",
    "    sum_sq = 0\n",
    "    for i in range(len(Point1)):\n",
    "       sum_sq = sum_sq + math.pow(Point1[i] - Point2[i],2)\n",
    "    return math.sqrt(sum_sq)"
   ]
  },
  {
   "cell_type": "code",
   "execution_count": 447,
   "metadata": {},
   "outputs": [
    {
     "name": "stdout",
     "output_type": "stream",
     "text": [
      "The predicted output is:  120.22\n"
     ]
    }
   ],
   "source": [
    "#Data hight and weight \n",
    "\n",
    "reg_data = [\n",
    "       [65.75, 112.99],\n",
    "       [71.52, 136.49],\n",
    "       [69.40, 153.03],\n",
    "       [68.22, 142.34],\n",
    "       [67.79, 144.30],\n",
    "       [68.70, 123.30],\n",
    "       [69.80, 141.49],\n",
    "       [70.01, 136.46],\n",
    "       [67.90, 112.37],\n",
    "       [66.49, 127.45],\n",
    "    ]\n",
    "# Question:\n",
    "# Given the data we have, what's the best-guess at someone's weight if they are 60 inches tall?\n",
    "reg_query = [60]\n",
    "KNN_Value=2\n",
    "KNN(reg_data,reg_query,KNN_Value,ed_fn,mean)"
   ]
  },
  {
   "cell_type": "code",
   "execution_count": 451,
   "metadata": {},
   "outputs": [
    {
     "name": "stdout",
     "output_type": "stream",
     "text": [
      "The predicted output is:  F\n"
     ]
    }
   ],
   "source": [
    "#Data hight and Gender \n",
    "\n",
    "reg_data = [\n",
    "       [65.77, 'F'],\n",
    "       [71.52, 'F'],\n",
    "       [69.40, 'M'],\n",
    "       [68.22, 'M'],\n",
    "       [67.79, 'F'],\n",
    "       [68.70, 'F'],\n",
    "       [69.80, 'M'],\n",
    "       [70.01, 'M'], \n",
    "       [67.90, 'F'],\n",
    "       [66.49, 'F'],\n",
    "    ]\n",
    "# Question:\n",
    "# Given the data we have, what's the best-guess at someone's weight if they are 60 inches tall?\n",
    "reg_query = [60]\n",
    "KNN_Value= 4\n",
    "KNN(reg_data,reg_query,KNN_Value,ed_fn,mode)"
   ]
  },
  {
   "cell_type": "code",
   "execution_count": null,
   "metadata": {
    "collapsed": true
   },
   "outputs": [],
   "source": []
  }
 ],
 "metadata": {
  "kernelspec": {
   "display_name": "Python 3",
   "language": "python",
   "name": "python3"
  },
  "language_info": {
   "codemirror_mode": {
    "name": "ipython",
    "version": 3
   },
   "file_extension": ".py",
   "mimetype": "text/x-python",
   "name": "python",
   "nbconvert_exporter": "python",
   "pygments_lexer": "ipython3",
   "version": "3.6.3"
  }
 },
 "nbformat": 4,
 "nbformat_minor": 2
}
